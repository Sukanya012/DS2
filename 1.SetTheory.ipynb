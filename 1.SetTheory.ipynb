{
 "cells": [
  {
   "cell_type": "markdown",
   "metadata": {},
   "source": [
    "Lab\n",
    "This Lab has two parts to to it. Both parts test your knowledge of set operations and will help you learn some new tools for set manipulation.\n",
    "\n",
    "Part 1\n",
    "Create a Set with the given list arr = [9,'g', 'h', 7, 5,'b', 8,'d', 0,'f', 1, 8,'e', 0,'a', 9, 2].\n",
    "\n",
    "Use python functions to create the following subsets from the set arr.\n",
    "\n",
    "2 sets -\n",
    "all_chars: all the charaters from arr\n",
    "all_int: all the integers from arr\n",
    "A set of any 2 characters and all integers from arr, name it \"2char_int_set\"\n",
    "A set of any 2 ints and any 3 characters from arr, name it \"2char_3int_set\"\n",
    "A set named \"random_set\" from arr"
   ]
  },
  {
   "cell_type": "code",
   "execution_count": 3,
   "metadata": {},
   "outputs": [],
   "source": [
    "# problem array \n",
    "arr = [9,'g', 'h', 7, 5,'b', 8,'d', 0,'f', 1, 8,'e', 0,'a', 9, 2]"
   ]
  },
  {
   "cell_type": "code",
   "execution_count": 5,
   "metadata": {},
   "outputs": [
    {
     "name": "stdout",
     "output_type": "stream",
     "text": [
      "All characters in the english langauge {'n', 'e', 'l', 'z', 'v', 'd', 'o', 'r', 'p', 'f', 'm', 'w', 'c', 'q', 'u', 'x', 'h', 'y', 't', 'a', 's', 'i', 'b', 'g', 'k', 'j'}\n"
     ]
    }
   ],
   "source": [
    "import string\n",
    "\n",
    "# To speed this up. We are giving you the all_letters set \n",
    "# that contains all the letters in the english language\n",
    "\n",
    "set_letters = set(string.ascii_lowercase)\n",
    "print(\"All characters in the english langauge {}\".format(set_letters))"
   ]
  },
  {
   "cell_type": "code",
   "execution_count": 7,
   "metadata": {},
   "outputs": [
    {
     "name": "stdout",
     "output_type": "stream",
     "text": [
      "Set of numbers {0, 1, 2, 3, 4, 5, 6, 7, 8, 9}\n"
     ]
    }
   ],
   "source": [
    "# First generate a set of numbers from 0 to 9 using numpy \n",
    "import numpy as np \n",
    "\n",
    "set_numbers = set(np.arange(10))\n",
    "print(\"Set of numbers {}\".format(set_numbers))"
   ]
  },
  {
   "cell_type": "code",
   "execution_count": 8,
   "metadata": {},
   "outputs": [
    {
     "name": "stdout",
     "output_type": "stream",
     "text": [
      "Set of only numbers {0, 1, 2, 5, 7, 8, 9}\n"
     ]
    }
   ],
   "source": [
    "# How do we get only numbers from the array?  \n",
    "arr_set = set(arr)\n",
    "set_only_numbers =  arr_set - set_letters\n",
    "print(\"Set of only numbers {}\".format(set_only_numbers))"
   ]
  },
  {
   "cell_type": "code",
   "execution_count": 10,
   "metadata": {},
   "outputs": [
    {
     "name": "stdout",
     "output_type": "stream",
     "text": [
      "Set of only letters {'e', 'a', 'g', 'd', 'f', 'b', 'h'}\n"
     ]
    }
   ],
   "source": [
    "# How do we get only letters from the array? \n",
    "set_only_letters =  arr_set - set_numbers\n",
    "print(\"Set of only letters {}\".format(set_only_letters))"
   ]
  },
  {
   "cell_type": "code",
   "execution_count": 12,
   "metadata": {},
   "outputs": [
    {
     "name": "stdout",
     "output_type": "stream",
     "text": [
      "One possible combination of is the following set {0, 1, 2, 'e', 5, 7, 8, 9, 'd'}\n"
     ]
    }
   ],
   "source": [
    "# How do we get 2 chars and rest letters from the array? \n",
    "# pick two alphabets and make a set\n",
    "alpha_subset = {'d','e'}\n",
    "twochar_set =  alpha_subset | set_only_numbers\n",
    "print(\"One possible combination of is the following set {}\".format(twochar_set))"
   ]
  },
  {
   "cell_type": "code",
   "execution_count": 13,
   "metadata": {},
   "outputs": [
    {
     "name": "stdout",
     "output_type": "stream",
     "text": [
      "One possible combination of is the following set {2, 'e', 9, 'a', 'g', 'd', 'f', 'b', 'h'}\n"
     ]
    }
   ],
   "source": [
    "# How do we get 2 chars and rest letters from the array? \n",
    "\n",
    "# pick two alphabets and make a set\n",
    "num_subset = {2,9}\n",
    "twonum_set = num_subset | set_only_letters\n",
    "print(\"One possible combination of is the following set {}\".format(twonum_set))"
   ]
  },
  {
   "cell_type": "code",
   "execution_count": 14,
   "metadata": {},
   "outputs": [
    {
     "name": "stdout",
     "output_type": "stream",
     "text": [
      " Subsample from arr_set [2, 'g', 1, 5, 'f']\n"
     ]
    }
   ],
   "source": [
    "# Next is random sampling from a set. We can do this by doing using the random sample function\n",
    "# from the random library \n",
    "import random\n",
    "\n",
    "# Make sure that random seed is set to 1  \n",
    "random.seed(1)\n",
    "subsample = random.sample(arr_set, 5)## the module random has a function sample use that to get 5 elements from arr_set\n",
    "print(\" Subsample from arr_set {}\".format(subsample))"
   ]
  },
  {
   "cell_type": "markdown",
   "metadata": {},
   "source": [
    "# Part 2"
   ]
  },
  {
   "cell_type": "markdown",
   "metadata": {},
   "source": [
    "P = [4,6,12,1,6,7,14,17,5,13,8,9,19,16,19,5,15,15,0,18]\n",
    "\n",
    "S = [5,0,3,11,3,7,9,3,5,2]\n",
    "\n",
    "Check if S is the subset of P."
   ]
  },
  {
   "cell_type": "code",
   "execution_count": 16,
   "metadata": {},
   "outputs": [
    {
     "name": "stdout",
     "output_type": "stream",
     "text": [
      "S is a subset of P: False\n"
     ]
    }
   ],
   "source": [
    "P = [4,6,12,1,6,7,14,17,5,13,8,9,19,16,19,5,15,15,0,18]\n",
    "S = [5,0,3,11,3,7,9,3,5,2]\n",
    "\n",
    "P_set = set(P)\n",
    "S_set = set(S)\n",
    "\n",
    "is_subset = S_set.issubset(P_set)  ## Check if S is a subset of P\n",
    "\n",
    "print(\"S is a subset of P: {}\".format(is_subset))\n"
   ]
  },
  {
   "cell_type": "code",
   "execution_count": 17,
   "metadata": {},
   "outputs": [
    {
     "name": "stdout",
     "output_type": "stream",
     "text": [
      "Elements common to both P and S are {0, 9, 5, 7}\n"
     ]
    }
   ],
   "source": [
    "P_intersect_S = P_set & S_set ## Get the intersection of sets P and S \n",
    "print(\"Elements common to both P and S are {}\".format(P_intersect_S))"
   ]
  },
  {
   "cell_type": "markdown",
   "metadata": {},
   "source": [
    "For the sets P and S calculate:\n",
    "    Union of Sets - S  ∪  P\n",
    "    Difference of Sets - Both S-P and P-S"
   ]
  },
  {
   "cell_type": "code",
   "execution_count": 18,
   "metadata": {},
   "outputs": [
    {
     "name": "stdout",
     "output_type": "stream",
     "text": [
      "Union of set P and S : {0, 1, 2, 3, 4, 5, 6, 7, 8, 9, 11, 12, 13, 14, 15, 16, 17, 18, 19}\n",
      "Difference of set P and S : {1, 4, 6, 8, 12, 13, 14, 15, 16, 17, 18, 19}\n",
      "Difference of set S and P : {11, 2, 3}\n"
     ]
    }
   ],
   "source": [
    "# Union of sets P and s \n",
    "union_PS = P_set | S_set ## Union of P and S. You have done this before when you combined chars with nums and vice versa \n",
    "\n",
    "# difference P-S \n",
    "difference_PS = P_set - S_set  ## Difference between sets P and S\n",
    "\n",
    "# difference S-P\n",
    "\n",
    "difference_SP = S_set - P_set  ## Difference between sets S and P  \n",
    "\n",
    "print(\"Union of set P and S : {}\".format(union_PS))\n",
    "print(\"Difference of set P and S : {}\".format(difference_PS))\n",
    "print(\"Difference of set S and P : {}\".format(difference_SP))"
   ]
  }
 ],
 "metadata": {
  "kernelspec": {
   "display_name": "Python 3",
   "language": "python",
   "name": "python3"
  },
  "language_info": {
   "codemirror_mode": {
    "name": "ipython",
    "version": 3
   },
   "file_extension": ".py",
   "mimetype": "text/x-python",
   "name": "python",
   "nbconvert_exporter": "python",
   "pygments_lexer": "ipython3",
   "version": "3.7.6"
  }
 },
 "nbformat": 4,
 "nbformat_minor": 4
}
